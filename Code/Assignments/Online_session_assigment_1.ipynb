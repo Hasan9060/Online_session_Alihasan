{
  "nbformat": 4,
  "nbformat_minor": 0,
  "metadata": {
    "colab": {
      "provenance": [],
      "authorship_tag": "ABX9TyP7XpuiiOrgx9Qsc16gPr4X",
      "include_colab_link": true
    },
    "kernelspec": {
      "name": "python3",
      "display_name": "Python 3"
    },
    "language_info": {
      "name": "python"
    }
  },
  "cells": [
    {
      "cell_type": "markdown",
      "metadata": {
        "id": "view-in-github",
        "colab_type": "text"
      },
      "source": [
        "<a href=\"https://colab.research.google.com/github/Hasan9060/Online_session_Alihasan/blob/main/Code/Assignments/Online_session_assigment_1.ipynb\" target=\"_parent\"><img src=\"https://colab.research.google.com/assets/colab-badge.svg\" alt=\"Open In Colab\"/></a>"
      ]
    },
    {
      "cell_type": "markdown",
      "source": [
        "[🔗Open Code in Colab](https://colab.research.google.com/drive/133BfFc43MKDusiDagROGd_y6o7ySfjjO#scrollTo=UBJJ6DYeRTdA)"
      ],
      "metadata": {
        "id": "UBJJ6DYeRTdA"
      }
    },
    {
      "cell_type": "markdown",
      "source": [
        "Assignments 01\n",
        "\n",
        "Class : **03** *Online Session*\n",
        "\n",
        "Name : **Hasan Rafay**\n",
        "\n",
        "Roll Number : **00292976**\n",
        "\n",
        "Leader : **Ali Hasan**"
      ],
      "metadata": {
        "id": "fSrGoHqEQ8Qq"
      }
    },
    {
      "cell_type": "code",
      "execution_count": null,
      "metadata": {
        "colab": {
          "base_uri": "https://localhost:8080/"
        },
        "id": "xhRn933W9ahH",
        "outputId": "481460cc-7dae-4f9c-9974-04141355688d"
      },
      "outputs": [
        {
          "output_type": "stream",
          "name": "stdout",
          "text": [
            "2\n",
            "4\n",
            "6\n",
            "8\n",
            "10\n"
          ]
        }
      ],
      "source": [
        "# Question 01 :- Create a tuple with numbers from 1 to 10 and print all even numbers.\n",
        "\n",
        "tuple = (1, 2, 3, 4, 5, 6, 7, 8, 9, 10)\n",
        "for number in tuple:\n",
        "    if number % 2 == 0:\n",
        "        print(number)"
      ]
    },
    {
      "cell_type": "code",
      "source": [
        "# Question 02 :- Create two sets of favorite fruits. Find the common ones.\n",
        "\n",
        "set1 = {\"apple\", \"banana\", \"orange\", \"Mango\"}\n",
        "set2 = {\"cherry\", \"graphes\", \"orange\", \"apple\",}\n",
        "common_fruits = set1.intersection(set2)\n",
        "print(common_fruits)"
      ],
      "metadata": {
        "colab": {
          "base_uri": "https://localhost:8080/"
        },
        "id": "_GVm2Ck8_mjy",
        "outputId": "340a523e-08d7-49ea-925b-3c8773adb705"
      },
      "execution_count": null,
      "outputs": [
        {
          "output_type": "stream",
          "name": "stdout",
          "text": [
            "{'orange', 'apple'}\n"
          ]
        }
      ]
    },
    {
      "cell_type": "code",
      "source": [
        "# Question 03 :- Make a list, perform insert, append, remove, and reverse operations on it.\n",
        "\n",
        "list=[1,2,3,4,5]\n",
        "list.insert(2,8)\n",
        "print(list)\n",
        "\n",
        "list=[1,2,3,4,5]\n",
        "list.append(6)\n",
        "print(list)\n",
        "\n",
        "list=[1,2,3,4,5]\n",
        "list.remove(3)\n",
        "print(list)\n",
        "\n",
        "list=[1,2,3,4,5]\n",
        "list.reverse()\n",
        "print(list)"
      ],
      "metadata": {
        "colab": {
          "base_uri": "https://localhost:8080/"
        },
        "id": "-9vL42cmBAV8",
        "outputId": "ee8e508e-a632-4453-83ea-10d329f2dd40"
      },
      "execution_count": null,
      "outputs": [
        {
          "output_type": "stream",
          "name": "stdout",
          "text": [
            "[1, 2, 8, 3, 4, 5]\n",
            "[1, 2, 3, 4, 5, 6]\n",
            "[1, 2, 4, 5]\n",
            "[5, 4, 3, 2, 1]\n"
          ]
        }
      ]
    }
  ]
}