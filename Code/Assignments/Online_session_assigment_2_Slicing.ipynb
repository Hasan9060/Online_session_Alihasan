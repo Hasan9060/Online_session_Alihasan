{
  "nbformat": 4,
  "nbformat_minor": 0,
  "metadata": {
    "colab": {
      "provenance": [],
      "authorship_tag": "ABX9TyMIRWKxOCZspdJDZunuDryo",
      "include_colab_link": true
    },
    "kernelspec": {
      "name": "python3",
      "display_name": "Python 3"
    },
    "language_info": {
      "name": "python"
    }
  },
  "cells": [
    {
      "cell_type": "markdown",
      "metadata": {
        "id": "view-in-github",
        "colab_type": "text"
      },
      "source": [
        "<a href=\"https://colab.research.google.com/github/Hasan9060/Online_session_Alihasan/blob/main/Code/Assignments/Online_session_assigment_2_Slicing.ipynb\" target=\"_parent\"><img src=\"https://colab.research.google.com/assets/colab-badge.svg\" alt=\"Open In Colab\"/></a>"
      ]
    },
    {
      "cell_type": "markdown",
      "source": [
        "[🔗Open Code in Colab](https://colab.research.google.com/drive/10EPUMe4pF-Uv2HM2GR4aMVFDgZRVwK_9#scrollTo=HvKcQn65Rn_P)"
      ],
      "metadata": {
        "id": "HvKcQn65Rn_P"
      }
    },
    {
      "cell_type": "markdown",
      "source": [
        "Assignments 02 : **Slicing in Python – Practice & Concepts**\n",
        "\n",
        "Class : **04** *Online Session*\n",
        "\n",
        "Name : **Hasan Rafay**\n",
        "\n",
        "Roll Number : **00292976**\n",
        "\n",
        "Leader : **Ali Hasan**\n"
      ],
      "metadata": {
        "id": "HNl60MNZHB7y"
      }
    },
    {
      "cell_type": "code",
      "execution_count": null,
      "metadata": {
        "colab": {
          "base_uri": "https://localhost:8080/"
        },
        "id": "T5Lhif1vGQZu",
        "outputId": "5f847769-3d72-4c60-ac48-c7d40961f4d6"
      },
      "outputs": [
        {
          "output_type": "execute_result",
          "data": {
            "text/plain": [
              "[30, 40, 50]"
            ]
          },
          "metadata": {},
          "execution_count": 1
        }
      ],
      "source": [
        "# What is the output of my_list[2:5] if my_list = [10, 20, 30, 40, 50, 60]?\n",
        "\n",
        "my_list = [10, 20, 30, 40, 50, 60]\n",
        "my_list[2:5] # first indexing is 2 so slicing start from 2 and stop at 5.\n"
      ]
    },
    {
      "cell_type": "code",
      "source": [
        "# Create a list of numbers from 1 to 10.Using slicing, extract the elements from index 3 to 7 (inclusive).\n",
        "\n",
        "my_list = [1,2,3,4,5,6,7,8,9,10]\n",
        "my_list[3:8]"
      ],
      "metadata": {
        "colab": {
          "base_uri": "https://localhost:8080/"
        },
        "id": "91YzAu2vJtgf",
        "outputId": "3dd3f679-a894-48fc-f72e-ef64db429e3c"
      },
      "execution_count": null,
      "outputs": [
        {
          "output_type": "execute_result",
          "data": {
            "text/plain": [
              "[4, 5, 6, 7, 8]"
            ]
          },
          "metadata": {},
          "execution_count": 6
        }
      ]
    },
    {
      "cell_type": "code",
      "source": [
        "# What does my_list[:] do?\n",
        "\n",
        "my_list = ['Biryani', 'Nihari', 'Chaat', 'Bun Kabab', 'Halwa Puri']\n",
        "my_list[:] # In this program return entire list because 0 is default value of start and Stop as also default value as much as it will be."
      ],
      "metadata": {
        "colab": {
          "base_uri": "https://localhost:8080/"
        },
        "id": "XDyRFhBNKdlJ",
        "outputId": "7fea4f2e-93db-4b46-acd9-fecf3c8379d2"
      },
      "execution_count": null,
      "outputs": [
        {
          "output_type": "execute_result",
          "data": {
            "text/plain": [
              "['Biryani', 'Nihari', 'Chaat', 'Bun Kabab', 'Halwa Puri']"
            ]
          },
          "metadata": {},
          "execution_count": 4
        }
      ]
    },
    {
      "cell_type": "code",
      "source": [
        "# If my_list = [1, 2, 3, 4, 5, 6, 7, 8], What is the output of my_list[::2]?\n",
        "\n",
        "my_list = [1, 2, 3, 4, 5, 6, 7, 8]\n",
        "my_list[::2] # it skip 1 values in the list."
      ],
      "metadata": {
        "colab": {
          "base_uri": "https://localhost:8080/"
        },
        "id": "efxqHy9ALry2",
        "outputId": "221de217-b5de-44d4-92f5-3764a0d4f7cc"
      },
      "execution_count": null,
      "outputs": [
        {
          "output_type": "execute_result",
          "data": {
            "text/plain": [
              "[1, 3, 5, 7]"
            ]
          },
          "metadata": {},
          "execution_count": 5
        }
      ]
    },
    {
      "cell_type": "code",
      "source": [
        "# How would you reverse a list using slicing? Use negative step: my_list[::-1]\n",
        "\n",
        "my_list = [1, 2, 3, 4, 5, 6, 7, 8]\n",
        "my_list[::-1] # when the step value is negative them entire list output in reverse."
      ],
      "metadata": {
        "colab": {
          "base_uri": "https://localhost:8080/"
        },
        "id": "oFKfZaxJMIRZ",
        "outputId": "42ef0fde-b0f4-4f93-9742-da0a7038dda9"
      },
      "execution_count": null,
      "outputs": [
        {
          "output_type": "execute_result",
          "data": {
            "text/plain": [
              "[8, 7, 6, 5, 4, 3, 2, 1]"
            ]
          },
          "metadata": {},
          "execution_count": 7
        }
      ]
    },
    {
      "cell_type": "code",
      "source": [
        "# What is the difference between my_list[-1] and my_list[:-1]?\n",
        "\n",
        "my_list= [1, 2, 3, 4, 5, 6, 7, 8]\n",
        "print(my_list[-1], \"\\nmy_list[-1] gives the last element.\")\n",
        "\n",
        "\n",
        "my_list2 = [1, 2, 3, 4, 5, 6, 7, 8]\n",
        "print(my_list2[:-1], \"\\nmy_list[:-1] gives all elements except the last one.\")\n"
      ],
      "metadata": {
        "colab": {
          "base_uri": "https://localhost:8080/"
        },
        "id": "FS5gLJ76Mwy6",
        "outputId": "8efb8157-16e1-43bd-ccb5-a9b912b79b27"
      },
      "execution_count": null,
      "outputs": [
        {
          "output_type": "stream",
          "name": "stdout",
          "text": [
            "8 \n",
            "my_list[-1] gives the last element.\n",
            "[1, 2, 3, 4, 5, 6, 7] \n",
            "my_list[:-1] gives all elements except the last one.\n"
          ]
        }
      ]
    },
    {
      "cell_type": "code",
      "source": [
        "# If my_list = [[1, 2], [3, 4], [5, 6]], How would you access the element 4 using slicing?\n",
        "\n",
        "my_list = [[1, 2], [3, 4], [5, 6]]\n",
        "my_list[1][1] # 1 is the list element number and second 1 is indexing number.\n"
      ],
      "metadata": {
        "colab": {
          "base_uri": "https://localhost:8080/"
        },
        "id": "Ax-ykdR9OWIG",
        "outputId": "d57c094a-de75-4ae3-871f-a26d04898a12"
      },
      "execution_count": null,
      "outputs": [
        {
          "output_type": "execute_result",
          "data": {
            "text/plain": [
              "4"
            ]
          },
          "metadata": {},
          "execution_count": 34
        }
      ]
    }
  ]
}